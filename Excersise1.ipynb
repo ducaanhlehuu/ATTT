{
 "cells": [
  {
   "cell_type": "markdown",
   "metadata": {},
   "source": [
    "### Bắt đầu bằng việc biến các string hexa thành chuỗi bytes"
   ]
  },
  {
   "cell_type": "code",
   "execution_count": 89,
   "metadata": {},
   "outputs": [],
   "source": [
    "import binascii\n",
    "import string\n",
    "\n",
    "msgs = [\n",
    "    binascii.unhexlify('315c4eeaa8b5f8aaf9174145bf43e1784b8fa00dc71d885a804e5ee9fa40b16349c146fb778cdf2d3aff021dfff5b403b510d0d0455468aeb98622b137dae857553ccd8883a7bc37520e06e515d22c954eba5025b8cc57ee59418ce7dc6bc41556bdb36bbca3e8774301fbcaa3b83b220809560987815f65286764703de0f3d524400a19b159610b11ef3e'),\n",
    "    binascii.unhexlify('234c02ecbbfbafa3ed18510abd11fa724fcda2018a1a8342cf064bbde548b12b07df44ba7191d9606ef4081ffde5ad46a5069d9f7f543bedb9c861bf29c7e205132eda9382b0bc2c5c4b45f919cf3a9f1cb74151f6d551f4480c82b2cb24cc5b028aa76eb7b4ab24171ab3cdadb8356f'),\n",
    "    binascii.unhexlify('32510ba9a7b2bba9b8005d43a304b5714cc0bb0c8a34884dd91304b8ad40b62b07df44ba6e9d8a2368e51d04e0e7b207b70b9b8261112bacb6c866a232dfe257527dc29398f5f3251a0d47e503c66e935de81230b59b7afb5f41afa8d661cb'),\n",
    "    binascii.unhexlify('32510ba9aab2a8a4fd06414fb517b5605cc0aa0dc91a8908c2064ba8ad5ea06a029056f47a8ad3306ef5021eafe1ac01a81197847a5c68a1b78769a37bc8f4575432c198ccb4ef63590256e305cd3a9544ee4160ead45aef520489e7da7d835402bca670bda8eb775200b8dabbba246b130f040d8ec6447e2c767f3d30ed81ea2e4c1404e1315a1010e7229be6636aaa'),\n",
    "    binascii.unhexlify('3f561ba9adb4b6ebec54424ba317b564418fac0dd35f8c08d31a1fe9e24fe56808c213f17c81d9607cee021dafe1e001b21ade877a5e68bea88d61b93ac5ee0d562e8e9582f5ef375f0a4ae20ed86e935de81230b59b73fb4302cd95d770c65b40aaa065f2a5e33a5a0bb5dcaba43722130f042f8ec85b7c2070'),\n",
    "    binascii.unhexlify('32510bfbacfbb9befd54415da243e1695ecabd58c519cd4bd2061bbde24eb76a19d84aba34d8de287be84d07e7e9a30ee714979c7e1123a8bd9822a33ecaf512472e8e8f8db3f9635c1949e640c621854eba0d79eccf52ff111284b4cc61d11902aebc66f2b2e436434eacc0aba938220b084800c2ca4e693522643573b2c4ce35050b0cf774201f0fe52ac9f26d71b6cf61a711cc229f77ace7aa88a2f19983122b11be87a59c355d25f8e4'),\n",
    "    binascii.unhexlify('32510bfbacfbb9befd54415da243e1695ecabd58c519cd4bd90f1fa6ea5ba47b01c909ba7696cf606ef40c04afe1ac0aa8148dd066592ded9f8774b529c7ea125d298e8883f5e9305f4b44f915cb2bd05af51373fd9b4af511039fa2d96f83414aaaf261bda2e97b170fb5cce2a53e675c154c0d9681596934777e2275b381ce2e40582afe67650b13e72287ff2270abcf73bb028932836fbdecfecee0a3b894473c1bbeb6b4913a536ce4f9b13f1efff71ea313c8661dd9a4ce'),\n",
    "    binascii.unhexlify('315c4eeaa8b5f8bffd11155ea506b56041c6a00c8a08854dd21a4bbde54ce56801d943ba708b8a3574f40c00fff9e00fa1439fd0654327a3bfc860b92f89ee04132ecb9298f5fd2d5e4b45e40ecc3b9d59e9417df7c95bba410e9aa2ca24c5474da2f276baa3ac325918b2daada43d6712150441c2e04f6565517f317da9d3'),\n",
    "    binascii.unhexlify('271946f9bbb2aeadec111841a81abc300ecaa01bd8069d5cc91005e9fe4aad6e04d513e96d99de2569bc5e50eeeca709b50a8a987f4264edb6896fb537d0a716132ddc938fb0f836480e06ed0fcd6e9759f40462f9cf57f4564186a2c1778f1543efa270bda5e933421cbe88a4a52222190f471e9bd15f652b653b7071aec59a2705081ffe72651d08f822c9ed6d76e48b63ab15d0208573a7eef027'),\n",
    "    binascii.unhexlify('466d06ece998b7a2fb1d464fed2ced7641ddaa3cc31c9941cf110abbf409ed39598005b3399ccfafb61d0315fca0a314be138a9f32503bedac8067f03adbf3575c3b8edc9ba7f537530541ab0f9f3cd04ff50d66f1d559ba520e89a2cb2a83'),\n",
    "    binascii.unhexlify('32510ba9babebbbefd001547a810e67149caee11d945cd7fc81a05e9f85aac650e9052ba6a8cd8257bf14d13e6f0a803b54fde9e77472dbff89d71b57bddef121336cb85ccb8f3315f4b52e301d16e9f52f904')\n",
    "]"
   ]
  },
  {
   "cell_type": "code",
   "execution_count": 109,
   "metadata": {},
   "outputs": [
    {
     "data": {
      "text/plain": [
       "b'1\\\\N\\xea\\xa8\\xb5\\xf8\\xaa\\xf9\\x17AE\\xbfC\\xe1xK\\x8f\\xa0\\r\\xc7\\x1d\\x88Z\\x80N^\\xe9\\xfa@\\xb1cI\\xc1F\\xfbw\\x8c\\xdf-:\\xff\\x02\\x1d\\xff\\xf5\\xb4\\x03\\xb5\\x10\\xd0\\xd0ETh\\xae\\xb9\\x86\"\\xb17\\xda\\xe8WU<\\xcd\\x88\\x83\\xa7\\xbc7R\\x0e\\x06\\xe5\\x15\\xd2,\\x95N\\xbaP%\\xb8\\xccW\\xeeYA\\x8c\\xe7\\xdck\\xc4\\x15V\\xbd\\xb3k\\xbc\\xa3\\xe8wC\\x01\\xfb\\xca\\xa3\\xb8;\"\\x08\\tV\\t\\x87\\x81_e(gdp=\\xe0\\xf3\\xd5$@\\n\\x19\\xb1Ya\\x0b\\x11\\xef>'"
      ]
     },
     "execution_count": 109,
     "metadata": {},
     "output_type": "execute_result"
    }
   ],
   "source": [
    "msgs[0]"
   ]
  },
  {
   "cell_type": "markdown",
   "metadata": {},
   "source": [
    "### Sử dụng letters để chứa các ký tự chữ từ thư viện string đồng thời khai báo hàm XOR với các chuỗi bytes có độ dài khác nhau"
   ]
  },
  {
   "cell_type": "code",
   "execution_count": null,
   "metadata": {},
   "outputs": [],
   "source": [
    "letters = string.ascii_letters.encode('ascii')\n",
    "def bxor(a, b):  \n",
    "    if len(a) > len(b):\n",
    "        return bytes([x ^ y for x, y in zip(a[:len(b)], b)])\n",
    "    else:\n",
    "        return bytes([x ^ y for x, y in zip(a, b[:len(a)])])"
   ]
  },
  {
   "cell_type": "code",
   "execution_count": 111,
   "metadata": {},
   "outputs": [
    {
     "name": "stdout",
     "output_type": "stream",
     "text": [
      "b'\\x12\\x10L\\x06\\x13NW\\t\\x14\\x0f\\x10O\\x02R\\x1b\\n\\x04B\\x02\\x0cM\\x07\\x0b\\x18OH\\x15T\\x1f\\x08\\x00HN\\x1e\\x02A\\x06\\x1d\\x06MT\\x0b\\n\\x02\\x02\\x10\\x19E\\x10\\x16MO:\\x00SC\\x00NC\\x0e\\x1e\\x1d\\nRF\\x12\\x17\\x1b\\x01\\x17\\x00\\x1b\\x0eEC\\x1c\\x0c\\x1d\\x16\\nR\\r\\x11tN\\x19\\x06\\x1a\\x11M\\x0eU\\x17O\\x08NT7\\x14\\x05\\x0b\\x17CST\\x1bH\\x07\\x0e\\x00\\x0eM'\n",
      "\u0012\u0010L\u0006\u0013NW\t\u0014\u000f\u0010O\u0002R\u001b\n",
      "\u0004B\u0002\fM\u0007\u000b\u0018OH\u0015T\u0000HN\u001e\u0002A\u0006\u001d\u0006MT\u000b\n",
      "\u0002\u0002\u0010\u0019E\u0010\u0016MO:\u0000SC\u0000NC\u000e\u001e\u001d\n",
      "RF\u0012\u0017\u001b\u0001\u0017\u0000\u001b\u000eEC\u001c\f\u001d\u0016\n",
      "\u0011tN\u0019\u0006\u001a\u0011M\u000eU\u0017NT7\u0014\u0005\u000b\u0017CST\u001bH\u0007\u000e\u0000\u000eM\n"
     ]
    }
   ],
   "source": [
    "i = 0\n",
    "c = bxor(msgs[i], msgs[i+1])\n",
    "p = c.decode('ascii')\n",
    "print(c)\n",
    "print(p)"
   ]
  },
  {
   "cell_type": "markdown",
   "metadata": {},
   "source": [
    "### Nhận thấy XOR của 1 kí tự lowercase/Uppercase với 1 space thì sẽ là Uppercase/lowercase của kí tự đó"
   ]
  },
  {
   "cell_type": "code",
   "execution_count": 112,
   "metadata": {},
   "outputs": [
    {
     "name": "stdout",
     "output_type": "stream",
     "text": [
      "a XOR space =  A\n",
      "A XOR space =  a\n",
      "space XOR space =  \u0000\n",
      "a XOR b=  \u0003\n"
     ]
    }
   ],
   "source": [
    "print(\"a XOR space = \",chr(ord('a') ^ ord(' ')))\n",
    "print(\"A XOR space = \",chr(ord('A') ^ ord(' ')))\n",
    "print(\"space XOR space = \",chr(ord(' ') ^ ord(' ')))\n",
    "print(\"a XOR b= \",chr(ord('a') ^ ord('b')))\n",
    "# Nhận thấy XOR của 1 kí tự lowercase/Uppercase với 1 space thì sẽ là Uppercase/lowercase của kí tự đó"
   ]
  },
  {
   "cell_type": "markdown",
   "metadata": {},
   "source": [
    "### Tiến hành tính toán độ khả thi dấu cách từ đó tính giá trị key khả thi"
   ]
  },
  {
   "cell_type": "code",
   "execution_count": 119,
   "metadata": {},
   "outputs": [],
   "source": [
    "key = [0] * 128\n",
    "for a in msgs:\n",
    "    possible_spaces = [0] * len(a)\n",
    "    for b in msgs:\n",
    "        if a == b: continue\n",
    "        c = bxor(a, b)\n",
    "        for k in range(len(c)):\n",
    "            # Tinh toán độ khả thi của vị trị dấu cách\n",
    "            if c[k] in letters or c[k] == 0:\n",
    "                possible_spaces[k] += 1\n",
    "\n",
    "    # Độ chính xác cần thiết để xác định vị trí dấu cách\n",
    "    precision = 3\n",
    "    \n",
    "    # Lặp qua từng vị trí trong list possible_spaces\n",
    "    for s in range(len(possible_spaces)):\n",
    "        # Nếu số lượng có thể là dấu cách tại vị trí đó lớn hơn hoặc bằng (số chuỗi trong msgs - precision)\n",
    "        if possible_spaces[s] >= len(msgs) - precision:\n",
    "            # Thực hiện phép XOR với 0x20 để xác định giá trị của key tại vị trí đó\n",
    "            key[s] = a[s] ^ 0x20"
   ]
  },
  {
   "cell_type": "code",
   "execution_count": 123,
   "metadata": {},
   "outputs": [
    {
     "name": "stdout",
     "output_type": "stream",
     "text": [
      "66396e89c9dbd8cb9874352acd6395102eafce78aa7fed28a0006bc98d29c50b69b0339a19f8aa401a9c6d708f80c066c763fef0123148cdd8e802d05ba98777335daefcecd59c433a6b268b60bf4ef03c9a611000bb009a3161edc70004a3\n"
     ]
    }
   ],
   "source": [
    "# Loại bỏ các giá trị 0 ở cuối danh sách key\n",
    "while key[-1] == 0:\n",
    "    key.pop()\n",
    "\n",
    "# Chuyển đổi danh sách key thành chuỗi bytes\n",
    "key_bytes = bytes(key)\n",
    "\n",
    "# In ra dưới dạng hex\n",
    "print(key_bytes.hex())"
   ]
  },
  {
   "cell_type": "markdown",
   "metadata": {},
   "source": [
    "### In ra bản mã dựa trên key dự đoán"
   ]
  },
  {
   "cell_type": "code",
   "execution_count": 128,
   "metadata": {},
   "outputs": [
    {
     "name": "stdout",
     "output_type": "stream",
     "text": [
      "b'We can aactor the number N5 with quantum computers. We can also factor the number 15\\xb8wWth a \\xdcog'\n",
      "b'Euler whuld probably enjo\\x06 that now his theorem becomes a corner stone of crypto - A\\xf6nQnymou\\xcb o'\n",
      "b'The nicb thing about Keey\\x13oq is now we cryptographers can drive a lot of fancy cars \\xb5 zan Bo\\xd6eh'\n",
      "b'The cipoertext produced b\\x06 a weak encryption algorithm looks as good as ciphertext p\\xeaoZuced \\xday '\n",
      "b'You don t want to buy a s\\x1at of car keys from a guy who specializes in stealing cars \\xb5 sarc R\\xd7te'\n",
      "b'There aue two types of cr\\x06ptography - that which will keep secrets safe from your li\\xectRe sis\\xccer'\n",
      "b'There aue two types of cy\\x0ftography: one that allows the Government to use brute forc\\xfd Jo bre\\xd9k '\n",
      "b'We can tee the point wher\\x1a the chip is unhappy if a wrong bit is sent and consumes m\\xf7r[ powe\\xca f'\n",
      "b'A (privfte-key)  encrypti\\x10n scheme states 3 algorithms, namely a procedure for gener\\xf9tWng ke\\xc1s,'\n",
      "b' The Coicise OxfordDictio\\x11ary (2006) de\\xef\\xac\\x81nes crypto as the art of  writing o r solv\\xf1nY code\\xcb. '\n",
      "b'The secuet message is: Wh\\x1an using a stream cipher, never use the key more than once'\n"
     ]
    }
   ],
   "source": [
    "for i in range(len(msgs)):\n",
    "    print(bxor(msgs[i],key))"
   ]
  },
  {
   "cell_type": "code",
   "execution_count": 129,
   "metadata": {},
   "outputs": [
    {
     "name": "stdout",
     "output_type": "stream",
     "text": [
      "The secuet message is: Wh\u001an using a stream cipher, never use the key more than once\n"
     ]
    }
   ],
   "source": [
    "print(bxor(msgs[-1],key).decode('ascii'))"
   ]
  },
  {
   "cell_type": "markdown",
   "metadata": {},
   "source": [
    "### Như vậy bản mã có thể đoán được sẽ là:"
   ]
  },
  {
   "cell_type": "markdown",
   "metadata": {},
   "source": [
    "#### The secret message is: When using a stream cipher, never use the key more than once"
   ]
  }
 ],
 "metadata": {
  "kernelspec": {
   "display_name": "base",
   "language": "python",
   "name": "python3"
  },
  "language_info": {
   "codemirror_mode": {
    "name": "ipython",
    "version": 3
   },
   "file_extension": ".py",
   "mimetype": "text/x-python",
   "name": "python",
   "nbconvert_exporter": "python",
   "pygments_lexer": "ipython3",
   "version": "3.10.9"
  }
 },
 "nbformat": 4,
 "nbformat_minor": 2
}
